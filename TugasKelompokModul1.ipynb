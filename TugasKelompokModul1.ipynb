{
  "nbformat": 4,
  "nbformat_minor": 0,
  "metadata": {
    "colab": {
      "provenance": [],
      "include_colab_link": true
    },
    "kernelspec": {
      "name": "python3",
      "display_name": "Python 3"
    },
    "language_info": {
      "name": "python"
    }
  },
  "cells": [
    {
      "cell_type": "markdown",
      "metadata": {
        "id": "view-in-github",
        "colab_type": "text"
      },
      "source": [
        "<a href=\"https://colab.research.google.com/github/antaresttt/PBF-KEL-7/blob/main/TugasKelompokModul1.ipynb\" target=\"_parent\"><img src=\"https://colab.research.google.com/assets/colab-badge.svg\" alt=\"Open In Colab\"/></a>"
      ]
    },
    {
      "cell_type": "markdown",
      "source": [
        "# KELOMPOK 7"
      ],
      "metadata": {
        "id": "TbZvPXdQPdKH"
      }
    },
    {
      "cell_type": "markdown",
      "source": [
        "1. Virdio Samuel Saragih - 122450124\n",
        "2. Gymnastiar Al Khoarizmy - 122450096\n",
        "3. Rian Bintang Wijaya - 122450094\n",
        "4. Tessa Kania Sagala - 122450040\n",
        "5. Renisha Putri Giani - 122450079"
      ],
      "metadata": {
        "id": "n7e3QrNBPm17"
      }
    },
    {
      "cell_type": "markdown",
      "source": [
        "# Nomor 4"
      ],
      "metadata": {
        "id": "lRajg5OPS9t-"
      }
    },
    {
      "cell_type": "code",
      "source": [
        "#Pemrograman Berbasis Objk\n",
        "import time      #Import function time untuk mengetahui waktu eksekusi\n",
        "st = time.time() #fungsi st untuk waktu eksekusi\n",
        "class Sides: #Buat class\n",
        "  def __init__(self,a, b, c): #inisialisasi a,b,c\n",
        "    self.a = a\n",
        "    self.b = b\n",
        "    self.c = c\n",
        "\n",
        "class A(Sides): #Buat subclass inheritage dari class Sides\n",
        "  def area(self): #Buat fungsi untuk rumus luas\n",
        "    s = (self.a * self.b * self.c)/2  #variabel s sebagai rumus luas segitiga\n",
        "    return s\n",
        "\n",
        "t = A(2,3,4)  #memasukkan nilai a, b dan c untuk penghitungan luas\n",
        "print(\"area of Triangle : {}\".format(t.area())) #memanggil luas segitiga\n",
        "\n",
        "et = time.time()\n",
        "elapsed_time = et - st  #rumus perhitungan waktu eksekusi\n",
        "print('Execution time:', elapsed_time, 'seconds') #Mengoutputkan lama waktu eksekusi"
      ],
      "metadata": {
        "colab": {
          "base_uri": "https://localhost:8080/"
        },
        "id": "rKppFkZtFjzj",
        "outputId": "d832a19a-23d2-4e40-f4a5-76a48bbd7d0a"
      },
      "execution_count": 19,
      "outputs": [
        {
          "output_type": "stream",
          "name": "stdout",
          "text": [
            "area of Triangle : 12.0\n",
            "Execution time: 0.0017404556274414062 seconds\n"
          ]
        }
      ]
    },
    {
      "cell_type": "code",
      "source": [
        "#Pemrograman Berbasis Fungsi\n",
        "import time       #Import function time untuk mengetahui waktu eksekusi\n",
        "st = time.time()  #fungsi st untuk waktu eksekusi\n",
        "sg = lambda a,b,c: (a*b*c)/2  #Rumus lamda untuk penghitungan luas segitiga\n",
        "\n",
        "print(f\"area of Triangle : {sg(2,3,4)}\")  #memanggil luas segitiga\n",
        "et = time.time()\n",
        "elapsed_time = et - st  #rumus perhitungan waktu eksekusi\n",
        "print('Execution time:', elapsed_time, 'seconds') #Mengoutputkan lama waktu eksekusi"
      ],
      "metadata": {
        "colab": {
          "base_uri": "https://localhost:8080/"
        },
        "id": "BQKLY8V9GUv-",
        "outputId": "b11f260e-f953-4d62-e5ad-60899a8b68e3"
      },
      "execution_count": 21,
      "outputs": [
        {
          "output_type": "stream",
          "name": "stdout",
          "text": [
            "area of Triangle : 12.0\n",
            "Execution time: 0.0008156299591064453 seconds\n"
          ]
        }
      ]
    },
    {
      "cell_type": "markdown",
      "source": [
        "Setelah membuat perhitungan luas segitiga dengan menggunakan Pemrograman Berbasis Fungsi dan Pemrograman Berbasis Objek, kita dapat melihat perbedaan pada waktu eksekusinya yang mana PBF dengan rumus lamda menghasilkan waktu lebih cepat yakni 0,0008 sekon ketimbang dari PBO yang lebih lama yakni 0,001 sekon"
      ],
      "metadata": {
        "id": "EszSHjMvO52Y"
      }
    },
    {
      "cell_type": "code",
      "source": [],
      "metadata": {
        "id": "mXWxCxnqSEgv"
      },
      "execution_count": null,
      "outputs": []
    }
  ]
}